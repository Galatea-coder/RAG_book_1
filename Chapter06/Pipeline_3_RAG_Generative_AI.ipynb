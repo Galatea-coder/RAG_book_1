{
  "cells": [
    {
      "cell_type": "markdown",
      "metadata": {
        "id": "GFLLl1Agum8O"
      },
      "source": [
        "# Pipeline 3: A RAG Pinecone vector store for Generative AI\n",
        "\n",
        "copyright 2024, Denis Rothman\n",
        "\n"
      ]
    },
    {
      "cell_type": "markdown",
      "metadata": {
        "id": "8QGI1D8FVrT6"
      },
      "source": [
        "#Installing the environment"
      ]
    },
    {
      "cell_type": "code",
      "execution_count": 1,
      "metadata": {
        "colab": {
          "base_uri": "https://localhost:8080/"
        },
        "id": "Z2abuU9OkVFL",
        "outputId": "bedcc764-1ef8-4e57-96df-ad31685fc509"
      },
      "outputs": [
        {
          "name": "stdout",
          "output_type": "stream",
          "text": [
            "Requirement already satisfied: openai==1.40.3 in /home/dk/miniconda3/envs/rag1/lib/python3.10/site-packages (1.40.3)\n",
            "Requirement already satisfied: anyio<5,>=3.5.0 in /home/dk/miniconda3/envs/rag1/lib/python3.10/site-packages (from openai==1.40.3) (4.7.0)\n",
            "Requirement already satisfied: distro<2,>=1.7.0 in /home/dk/miniconda3/envs/rag1/lib/python3.10/site-packages (from openai==1.40.3) (1.9.0)\n",
            "Requirement already satisfied: httpx<1,>=0.23.0 in /home/dk/miniconda3/envs/rag1/lib/python3.10/site-packages (from openai==1.40.3) (0.27.2)\n",
            "Requirement already satisfied: jiter<1,>=0.4.0 in /home/dk/miniconda3/envs/rag1/lib/python3.10/site-packages (from openai==1.40.3) (0.8.2)\n",
            "Requirement already satisfied: pydantic<3,>=1.9.0 in /home/dk/miniconda3/envs/rag1/lib/python3.10/site-packages (from openai==1.40.3) (2.10.4)\n",
            "Requirement already satisfied: sniffio in /home/dk/miniconda3/envs/rag1/lib/python3.10/site-packages (from openai==1.40.3) (1.3.1)\n",
            "Requirement already satisfied: tqdm>4 in /home/dk/.local/lib/python3.10/site-packages (from openai==1.40.3) (4.66.5)\n",
            "Requirement already satisfied: typing-extensions<5,>=4.11 in /home/dk/miniconda3/envs/rag1/lib/python3.10/site-packages (from openai==1.40.3) (4.12.2)\n",
            "Requirement already satisfied: exceptiongroup>=1.0.2 in /home/dk/miniconda3/envs/rag1/lib/python3.10/site-packages (from anyio<5,>=3.5.0->openai==1.40.3) (1.2.2)\n",
            "Requirement already satisfied: idna>=2.8 in /home/dk/miniconda3/envs/rag1/lib/python3.10/site-packages (from anyio<5,>=3.5.0->openai==1.40.3) (3.10)\n",
            "Requirement already satisfied: certifi in /home/dk/miniconda3/envs/rag1/lib/python3.10/site-packages (from httpx<1,>=0.23.0->openai==1.40.3) (2024.12.14)\n",
            "Requirement already satisfied: httpcore==1.* in /home/dk/miniconda3/envs/rag1/lib/python3.10/site-packages (from httpx<1,>=0.23.0->openai==1.40.3) (1.0.7)\n",
            "Requirement already satisfied: h11<0.15,>=0.13 in /home/dk/miniconda3/envs/rag1/lib/python3.10/site-packages (from httpcore==1.*->httpx<1,>=0.23.0->openai==1.40.3) (0.14.0)\n",
            "Requirement already satisfied: annotated-types>=0.6.0 in /home/dk/miniconda3/envs/rag1/lib/python3.10/site-packages (from pydantic<3,>=1.9.0->openai==1.40.3) (0.7.0)\n",
            "Requirement already satisfied: pydantic-core==2.27.2 in /home/dk/miniconda3/envs/rag1/lib/python3.10/site-packages (from pydantic<3,>=1.9.0->openai==1.40.3) (2.27.2)\n",
            "Requirement already satisfied: pinecone-client==5.0.1 in /home/dk/miniconda3/envs/rag1/lib/python3.10/site-packages (5.0.1)\n",
            "Requirement already satisfied: certifi>=2019.11.17 in /home/dk/miniconda3/envs/rag1/lib/python3.10/site-packages (from pinecone-client==5.0.1) (2024.12.14)\n",
            "Requirement already satisfied: pinecone-plugin-inference<2.0.0,>=1.0.3 in /home/dk/miniconda3/envs/rag1/lib/python3.10/site-packages (from pinecone-client==5.0.1) (1.1.0)\n",
            "Requirement already satisfied: pinecone-plugin-interface<0.0.8,>=0.0.7 in /home/dk/miniconda3/envs/rag1/lib/python3.10/site-packages (from pinecone-client==5.0.1) (0.0.7)\n",
            "Requirement already satisfied: tqdm>=4.64.1 in /home/dk/.local/lib/python3.10/site-packages (from pinecone-client==5.0.1) (4.66.5)\n",
            "Requirement already satisfied: typing-extensions>=3.7.4 in /home/dk/miniconda3/envs/rag1/lib/python3.10/site-packages (from pinecone-client==5.0.1) (4.12.2)\n",
            "Requirement already satisfied: urllib3>=1.26.0 in /home/dk/.local/lib/python3.10/site-packages (from pinecone-client==5.0.1) (2.2.3)\n"
          ]
        }
      ],
      "source": [
        "!pip install openai==1.40.3\n",
        "!pip install pinecone-client==5.0.1"
      ]
    },
    {
      "cell_type": "code",
      "execution_count": 2,
      "metadata": {
        "id": "xotquvXHRxrU"
      },
      "outputs": [],
      "source": [
        "f = open(\"pinecone.txt\", \"r\")\n",
        "PINECONE_API_KEY=f.readline()\n",
        "f.close()"
      ]
    },
    {
      "cell_type": "code",
      "execution_count": 3,
      "metadata": {
        "id": "I8lwM8XMd9bz"
      },
      "outputs": [],
      "source": [
        "f = open(\"api_key.txt\", \"r\")\n",
        "API_KEY=f.readline()\n",
        "f.close()"
      ]
    },
    {
      "cell_type": "code",
      "execution_count": 4,
      "metadata": {
        "id": "UbKxUEHiZNyX"
      },
      "outputs": [],
      "source": [
        "#The OpenAI Key\n",
        "import os\n",
        "import openai\n",
        "os.environ['OPENAI_API_KEY'] =API_KEY\n",
        "openai.api_key = os.getenv(\"OPENAI_API_KEY\")"
      ]
    },
    {
      "cell_type": "markdown",
      "metadata": {
        "id": "XswfiN5Z1OvT"
      },
      "source": [
        "#  The Pinecone index"
      ]
    },
    {
      "cell_type": "code",
      "execution_count": 5,
      "metadata": {
        "id": "nOSA_Spit_xq"
      },
      "outputs": [
        {
          "name": "stderr",
          "output_type": "stream",
          "text": [
            "/home/dk/miniconda3/envs/rag1/lib/python3.10/site-packages/pinecone/data/index.py:1: TqdmWarning: IProgress not found. Please update jupyter and ipywidgets. See https://ipywidgets.readthedocs.io/en/stable/user_install.html\n",
            "  from tqdm.autonotebook import tqdm\n"
          ]
        }
      ],
      "source": [
        "import os\n",
        "from pinecone import Pinecone, ServerlessSpec\n",
        "\n",
        "# initialize connection to pinecone (get API key at app.pinecone.io)\n",
        "api_key = os.environ.get('PINECONE_API_KEY') or 'PINECONE_API_KEY'\n",
        "\n",
        "from pinecone import Pinecone, ServerlessSpec\n",
        "pc = Pinecone(api_key=PINECONE_API_KEY)"
      ]
    },
    {
      "cell_type": "code",
      "execution_count": 6,
      "metadata": {
        "id": "P---PNLpXeQs"
      },
      "outputs": [],
      "source": [
        "from pinecone import ServerlessSpec\n",
        "\n",
        "index_name = 'bank-index-50000'\n",
        "cloud = os.environ.get('PINECONE_CLOUD') or 'aws'\n",
        "region = os.environ.get('PINECONE_REGION') or 'us-east-1'\n",
        "\n",
        "spec = ServerlessSpec(cloud=cloud, region=region)"
      ]
    },
    {
      "cell_type": "code",
      "execution_count": 7,
      "metadata": {
        "colab": {
          "base_uri": "https://localhost:8080/"
        },
        "id": "jO7AYljM0gq1",
        "outputId": "d2c83598-e789-4fc0-a04f-c1badb9d6092"
      },
      "outputs": [
        {
          "data": {
            "text/plain": [
              "{'dimension': 1536,\n",
              " 'index_fullness': 0.0,\n",
              " 'namespaces': {'': {'vector_count': 50000}},\n",
              " 'total_vector_count': 50000}"
            ]
          },
          "execution_count": 7,
          "metadata": {},
          "output_type": "execute_result"
        }
      ],
      "source": [
        "import time\n",
        "import pinecone\n",
        "# check if index already exists (it shouldn't if this is first time)\n",
        "if index_name not in pc.list_indexes().names():\n",
        "    # if does not exist, create index\n",
        "    pc.create_index(\n",
        "        index_name,\n",
        "        dimension=1536,  # dimensionality of text-embedding-ada-002\n",
        "        metric='cosine',\n",
        "        spec=spec\n",
        "    )\n",
        "    # wait for index to be initialized\n",
        "    time.sleep(1)\n",
        "\n",
        "# connect to index\n",
        "index = pc.Index(index_name)\n",
        "# view index stats\n",
        "index.describe_index_stats()"
      ]
    },
    {
      "cell_type": "markdown",
      "metadata": {
        "id": "7vfLjBF4G9rk"
      },
      "source": [
        "# RAG with GPT-4o"
      ]
    },
    {
      "cell_type": "markdown",
      "metadata": {
        "id": "7K_RLspI4MLd"
      },
      "source": [
        "# Query the dataset"
      ]
    },
    {
      "cell_type": "code",
      "execution_count": 8,
      "metadata": {
        "id": "nKl3UiJ3-pXE"
      },
      "outputs": [],
      "source": [
        "import openai\n",
        "import time\n",
        "\n",
        "embedding_model = \"text-embedding-3-small\"\n",
        "\n",
        "# Initialize the OpenAI client\n",
        "client = openai.OpenAI()\n",
        "\n",
        "def get_embedding(text, model=embedding_model):\n",
        "    text = text.replace(\"\\n\", \" \")\n",
        "    response = client.embeddings.create(input=[text], model=model)\n",
        "    embedding = response.data[0].embedding\n",
        "    return embedding"
      ]
    },
    {
      "cell_type": "markdown",
      "metadata": {
        "id": "2qjzgj6XxDsf"
      },
      "source": [
        "## Querying a target vector"
      ]
    },
    {
      "cell_type": "code",
      "execution_count": 9,
      "metadata": {
        "id": "n4Ev_TOZ6NBy"
      },
      "outputs": [],
      "source": [
        "import time\n",
        "start_time = time.time()  # Start timing before the request\n",
        "# Target vector\n",
        "query_text = \"Customer Henderson CreditScore 599 Age 37Tenure 2Balance 0.0NumOfProducts 1HasCrCard 1IsActiveMember 1EstimatedSalary 107000.88Exited 1Complain 1Satisfaction Score 2Card Type DIAMONDPoint Earned 501\"\n",
        "query_embedding = get_embedding(query_text,model=embedding_model)"
      ]
    },
    {
      "cell_type": "code",
      "execution_count": 10,
      "metadata": {
        "colab": {
          "base_uri": "https://localhost:8080/"
        },
        "id": "-MkWhXEwF76b",
        "outputId": "da35e93a-c305-4a74-a4fe-dfb5653badfa"
      },
      "outputs": [
        {
          "name": "stdout",
          "output_type": "stream",
          "text": [
            "Query Results:\n",
            "ID: 1686, Score: 0.85504812\n",
            "Text: CustomerId: 15648064 CreditScore: 649 Age: 33 Tenure: 2 Balance: 0.0 NumOfProducts: 2 HasCrCard: 1 IsActiveMember: 0 EstimatedSalary: 2010.98 Exited: 0 Complain: 0 Satisfaction Score: 3 Card Type: DIAMOND Point Earned: 720\n",
            "Querying response time: 2.38 seconds\n"
          ]
        }
      ],
      "source": [
        "# Perform the query using the embedding\n",
        "query_results = index.query(\n",
        "    vector=query_embedding,\n",
        "    include_metadata=True,\n",
        "    top_k=1\n",
        ")\n",
        "# Print the query results along with metadata\n",
        "print(\"Query Results:\")\n",
        "for match in query_results['matches']:\n",
        "    print(f\"ID: {match['id']}, Score: {match['score']}\")\n",
        "    if 'metadata' in match and 'text' in match['metadata']:\n",
        "        print(f\"Text: {match['metadata']['text']}\")\n",
        "    else:\n",
        "        print(\"No metadata available.\")\n",
        "\n",
        "response_time = time.time() - start_time              # Measure response time\n",
        "print(f\"Querying response time: {response_time:.2f} seconds\")  # Print response time"
      ]
    },
    {
      "cell_type": "markdown",
      "metadata": {
        "id": "WajfbO2e4_fN"
      },
      "source": [
        "## Extract Relevant Texts"
      ]
    },
    {
      "cell_type": "code",
      "execution_count": 11,
      "metadata": {
        "colab": {
          "base_uri": "https://localhost:8080/"
        },
        "id": "8ClGVc5qUpPW",
        "outputId": "720f1929-71f6-4b6c-ef2c-c73c19b787ea"
      },
      "outputs": [
        {
          "name": "stdout",
          "output_type": "stream",
          "text": [
            "CustomerId: 15648064 CreditScore: 649 Age: 33 Tenure: 2 Balance: 0.0 NumOfProducts: 2 HasCrCard: 1 IsActiveMember: 0 EstimatedSalary: 2010.98 Exited: 0 Complain: 0 Satisfaction Score: 3 Card Type: DIAMOND Point Earned: 720\n"
          ]
        }
      ],
      "source": [
        "relevant_texts = [match['metadata']['text'] for match in query_results['matches'] if 'metadata' in match and 'text' in match['metadata']]\n",
        "\n",
        "# Join all items in the list into a single string separated by a specific delimiter (e.g., a newline or space)\n",
        "combined_text = '\\n'.join(relevant_texts)  # Using newline as a separator for readability\n",
        "print(combined_text)"
      ]
    },
    {
      "cell_type": "markdown",
      "metadata": {
        "id": "2cBZowvcHJ5j"
      },
      "source": [
        "## Augmented prompt"
      ]
    },
    {
      "cell_type": "code",
      "execution_count": 12,
      "metadata": {
        "colab": {
          "base_uri": "https://localhost:8080/"
        },
        "id": "rmXVFInU4_fO",
        "outputId": "ac915bae-f30a-470c-8c62-61cf7bcc34e5"
      },
      "outputs": [
        {
          "name": "stdout",
          "output_type": "stream",
          "text": [
            "Prompt for the Generative AI model: I have this customer bank record with interesting information on age, credit score and more and similar customers. What could I suggest to keep them in my bank in an email with an url to get new advantages based on the fields for each Customer ID:Customer Henderson CreditScore 599 Age 37Tenure 2Balance 0.0NumOfProducts 1HasCrCard 1IsActiveMember 1EstimatedSalary 107000.88Exited 1Complain 1Satisfaction Score 2Card Type DIAMONDPoint Earned 501CustomerId: 15648064 CreditScore: 649 Age: 33 Tenure: 2 Balance: 0.0 NumOfProducts: 2 HasCrCard: 1 IsActiveMember: 0 EstimatedSalary: 2010.98 Exited: 0 Complain: 0 Satisfaction Score: 3 Card Type: DIAMOND Point Earned: 720\n"
          ]
        }
      ],
      "source": [
        "# Combine texts into a single string, separated by new lines\n",
        "combined_context = \"\\n\".join(relevant_texts)\n",
        "#prompt\n",
        "query_prompt=\"I have this customer bank record with interesting information on age, credit score and more and similar customers. What could I suggest to keep them in my bank in an email with an url to get new advantages based on the fields for each Customer ID:\"\n",
        "itext=query_prompt+ query_text+combined_context\n",
        "# Augmented input\n",
        "print(\"Prompt for the Generative AI model:\", itext)"
      ]
    },
    {
      "cell_type": "markdown",
      "metadata": {
        "id": "QuF2PbYPbHtc"
      },
      "source": [
        "## Augmented generation"
      ]
    },
    {
      "cell_type": "code",
      "execution_count": 13,
      "metadata": {
        "colab": {
          "base_uri": "https://localhost:8080/"
        },
        "id": "xxXAdRdLNr26",
        "outputId": "f13a954d-9a79-4cbc-dbf3-4fb968646d68"
      },
      "outputs": [
        {
          "name": "stdout",
          "output_type": "stream",
          "text": [
            "Subject: Unlock Exclusive Benefits with Our New Customer Loyalty Program!\n",
            "\n",
            "Dear Valued Customer,\n",
            "\n",
            "We hope this message finds you well. At [Bank Name], we are constantly striving to enhance your banking experience and provide you with the best services tailored to your needs. We noticed that you are a valued member of our community, and we want to ensure you are getting the most out of your relationship with us.\n",
            "\n",
            "We are excited to introduce our new Customer Loyalty Program, designed to reward you with exclusive benefits and offers. As a DIAMOND cardholder, you are already enjoying premium services, but there's so much more waiting for you!\n",
            "\n",
            "**Here's what you can look forward to:**\n",
            "\n",
            "- **Personalized Financial Advice:** Our experts are ready to help you improve your credit score and manage your finances more effectively.\n",
            "- **Exclusive Offers:** Enjoy special discounts and promotions tailored just for you.\n",
            "- **Enhanced Rewards:** Earn more points with every transaction and redeem them for exciting rewards.\n",
            "- **Priority Support:** Get access to our dedicated customer service team for any assistance you need.\n",
            "\n",
            "To explore these new advantages and more, simply click the link below and log in to your account:\n",
            "\n",
            "[Explore Your New Benefits](#)\n",
            "\n",
            "We understand that satisfaction is key, and we are committed to addressing any concerns you may have. If you have any feedback or require assistance, please do not hesitate to reach out to our customer service team.\n",
            "\n",
            "Thank you for choosing [Bank Name]. We look forward to continuing to serve you and helping you\n",
            "Querying response time: 5.09 seconds\n"
          ]
        }
      ],
      "source": [
        "import openai\n",
        "\n",
        "gpt_model = \"gpt-4o\"\n",
        "\n",
        "import time\n",
        "start_time = time.time()  # Start timing before the request\n",
        "\n",
        "response = client.chat.completions.create(\n",
        "  model=gpt_model,\n",
        "  messages=[\n",
        "    {\n",
        "      \"role\": \"system\",\n",
        "      \"content\": \"You are the community manager can write engaging email based on the text you have. Do not use a surname but simply Dear Valued Customer instead.\"\n",
        "    },\n",
        "    {\n",
        "      \"role\": \"user\",\n",
        "      \"content\": itext\n",
        "    }\n",
        "  ],\n",
        "  temperature=0,\n",
        "  max_tokens=300,\n",
        "  top_p=1,\n",
        "  frequency_penalty=0,\n",
        "  presence_penalty=0\n",
        ")\n",
        "print(response.choices[0].message.content)\n",
        "\n",
        "response_time = time.time() - start_time              # Measure response time\n",
        "print(f\"Querying response time: {response_time:.2f} seconds\")  # Print response time"
      ]
    },
    {
      "cell_type": "code",
      "execution_count": null,
      "metadata": {},
      "outputs": [],
      "source": []
    }
  ],
  "metadata": {
    "colab": {
      "provenance": [],
      "toc_visible": true
    },
    "gpuClass": "standard",
    "kernelspec": {
      "display_name": "rag1",
      "language": "python",
      "name": "python3"
    },
    "language_info": {
      "codemirror_mode": {
        "name": "ipython",
        "version": 3
      },
      "file_extension": ".py",
      "mimetype": "text/x-python",
      "name": "python",
      "nbconvert_exporter": "python",
      "pygments_lexer": "ipython3",
      "version": "3.10.16"
    }
  },
  "nbformat": 4,
  "nbformat_minor": 0
}
